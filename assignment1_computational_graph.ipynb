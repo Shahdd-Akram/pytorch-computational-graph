{
  "nbformat": 4,
  "nbformat_minor": 0,
  "metadata": {
    "colab": {
      "provenance": []
    },
    "kernelspec": {
      "name": "python3",
      "display_name": "Python 3"
    },
    "language_info": {
      "name": "python"
    }
  },
  "cells": [
    {
      "cell_type": "code",
      "execution_count": 2,
      "metadata": {
        "id": "cqBwlIpOUSuA"
      },
      "outputs": [],
      "source": [
        "import torch\n"
      ]
    },
    {
      "cell_type": "code",
      "source": [
        "\n",
        "# 1. Input\n",
        "x = torch.tensor([1.5], requires_grad=True)  # example scalar input\n"
      ],
      "metadata": {
        "id": "CETplWdfUa_V"
      },
      "execution_count": 9,
      "outputs": []
    },
    {
      "cell_type": "code",
      "source": [
        "\n",
        "# 2. Layer 1: 3 neurons (ReLU)\n",
        "w00 = torch.randn(1, requires_grad=True)\n",
        "b00 = torch.randn(1, requires_grad=True)\n",
        "\n",
        "w01 = torch.randn(1, requires_grad=True)\n",
        "b01 = torch.randn(1, requires_grad=True)\n",
        "\n",
        "w02 = torch.randn(1, requires_grad=True)\n",
        "b02 = torch.randn(1, requires_grad=True)\n",
        "\n",
        "z00 = w00 * x + b00\n",
        "z01 = w01 * x + b01\n",
        "z02 = w02 * x + b02\n",
        "\n",
        "a00 = torch.relu(z00)\n",
        "a01 = torch.relu(z01)\n",
        "a02 = torch.relu(z02)\n",
        "\n",
        "print(\"Layer 1 outputs (after ReLU):\", a00.item(), a01.item(), a02.item())\n"
      ],
      "metadata": {
        "colab": {
          "base_uri": "https://localhost:8080/"
        },
        "id": "Nq3-f9opUs61",
        "outputId": "7ab553f5-93ae-43a5-dc20-c43c60bed1a2"
      },
      "execution_count": 10,
      "outputs": [
        {
          "output_type": "stream",
          "name": "stdout",
          "text": [
            "Layer 1 outputs (after ReLU): 3.254042625427246 0.0 1.3654214143753052\n"
          ]
        }
      ]
    },
    {
      "cell_type": "code",
      "source": [
        "\n",
        "# neuron 1\n",
        "w10 = torch.randn(3, requires_grad=True)\n",
        "b10 = torch.randn(1, requires_grad=True)\n",
        "z10 = w10[0]*a00 + w10[1]*a01 + w10[2]*a02 + b10\n",
        "a10 = torch.sigmoid(z10)\n",
        "\n",
        "# neuron 2\n",
        "w11 = torch.randn(3, requires_grad=True)\n",
        "b11 = torch.randn(1, requires_grad=True)\n",
        "z11 = w11[0]*a00 + w11[1]*a01 + w11[2]*a02 + b11\n",
        "a11 = torch.sigmoid(z11)\n",
        "\n",
        "print(\"Layer 2 outputs (after Sigmoid):\", a10.item(), a11.item())\n"
      ],
      "metadata": {
        "colab": {
          "base_uri": "https://localhost:8080/"
        },
        "id": "moHu1DsYU6oZ",
        "outputId": "5c438838-e1c7-477f-83cf-c64231d0e555"
      },
      "execution_count": 11,
      "outputs": [
        {
          "output_type": "stream",
          "name": "stdout",
          "text": [
            "Layer 2 outputs (after Sigmoid): 0.9932019114494324 0.9157017469406128\n"
          ]
        }
      ]
    },
    {
      "cell_type": "code",
      "source": [
        "\n",
        "# 4. Combine outputs (+) then Tanh\n",
        "combined = a10 + a11\n",
        "a_combined = torch.tanh(combined)\n",
        "\n",
        "print(\"Combined output (after Tanh):\", a_combined.item())\n"
      ],
      "metadata": {
        "colab": {
          "base_uri": "https://localhost:8080/"
        },
        "id": "UFL9ZDhrU_lr",
        "outputId": "0e320950-d612-41c6-8ca7-bdd2f65b9748"
      },
      "execution_count": 12,
      "outputs": [
        {
          "output_type": "stream",
          "name": "stdout",
          "text": [
            "Combined output (after Tanh): 0.9569932222366333\n"
          ]
        }
      ]
    },
    {
      "cell_type": "code",
      "source": [
        "\n",
        "# 5. Output Layer (linear)\n",
        "w20 = torch.randn(1, requires_grad=True)\n",
        "b20 = torch.randn(1, requires_grad=True)\n",
        "\n",
        "output = w20 * a_combined + b20\n",
        "print(\"Final output (linear):\", output.item())\n"
      ],
      "metadata": {
        "colab": {
          "base_uri": "https://localhost:8080/"
        },
        "id": "e3Df1WwQVB0F",
        "outputId": "d91aaf36-ce93-4228-c763-14cf99adfae7"
      },
      "execution_count": 13,
      "outputs": [
        {
          "output_type": "stream",
          "name": "stdout",
          "text": [
            "Final output (linear): 0.010760128498077393\n"
          ]
        }
      ]
    },
    {
      "cell_type": "code",
      "source": [
        "\n",
        "# 6. Backward: compute gradient d(output)/d(x)\n",
        "output.backward()\n",
        "\n",
        "print(\"Gradient of output w.r.t input x:\", x.grad.item())\n"
      ],
      "metadata": {
        "colab": {
          "base_uri": "https://localhost:8080/"
        },
        "id": "TUeDRdxzVD2G",
        "outputId": "ad047be9-6ec7-4695-bdee-6445a9cc2e98"
      },
      "execution_count": 14,
      "outputs": [
        {
          "output_type": "stream",
          "name": "stdout",
          "text": [
            "Gradient of output w.r.t input x: 0.0025782412849366665\n"
          ]
        }
      ]
    }
  ]
}